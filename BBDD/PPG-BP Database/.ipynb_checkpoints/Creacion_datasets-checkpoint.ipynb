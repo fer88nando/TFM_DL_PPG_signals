{
 "cells": [
  {
   "cell_type": "code",
   "execution_count": 1,
   "id": "eb0991bf-5990-48af-b11e-b30e64c16a83",
   "metadata": {},
   "outputs": [],
   "source": [
    "import pandas as pd"
   ]
  },
  {
   "cell_type": "code",
   "execution_count": 2,
   "id": "e2792762-431c-4f11-9684-9fd3ce94852c",
   "metadata": {},
   "outputs": [],
   "source": [
    "df = pd.read_excel(\"../Table 1.xlsx\")"
   ]
  },
  {
   "cell_type": "code",
   "execution_count": 3,
   "id": "d5965707-4c16-44d4-ad31-9ab3c546a31e",
   "metadata": {},
   "outputs": [],
   "source": [
    "df1 = df.iloc[:,:5]\n",
    "df2 = df.iloc[:,5:10]\n",
    "df2.columns=df1.columns.values\n",
    "df3 = df.iloc[:,10:15]\n",
    "df3.columns=df1.columns.values\n",
    "df4 = df.iloc[:,15:20]\n",
    "df4.columns=df1.columns.values\n",
    "df_concatenado = pd.concat([df1, df2, df3, df4], axis=0, ignore_index=True)\n",
    "df = df_concatenado.drop(df_concatenado.index[-1])\n",
    "df = df.drop(df.columns[0], axis=1)\n",
    "df['subject ID'] = df['subject ID'].astype(int)\n",
    "df.columns=[\"subject ID\",\"1\",\"2\",\"3\"]"
   ]
  },
  {
   "cell_type": "code",
   "execution_count": 4,
   "id": "86b11f77-4f41-4931-9c82-7e00ff5422bd",
   "metadata": {},
   "outputs": [
    {
     "data": {
      "text/html": [
       "<div>\n",
       "<style scoped>\n",
       "    .dataframe tbody tr th:only-of-type {\n",
       "        vertical-align: middle;\n",
       "    }\n",
       "\n",
       "    .dataframe tbody tr th {\n",
       "        vertical-align: top;\n",
       "    }\n",
       "\n",
       "    .dataframe thead th {\n",
       "        text-align: right;\n",
       "    }\n",
       "</style>\n",
       "<table border=\"1\" class=\"dataframe\">\n",
       "  <thead>\n",
       "    <tr style=\"text-align: right;\">\n",
       "      <th></th>\n",
       "      <th>subject ID</th>\n",
       "      <th>1</th>\n",
       "      <th>2</th>\n",
       "      <th>3</th>\n",
       "    </tr>\n",
       "  </thead>\n",
       "  <tbody>\n",
       "    <tr>\n",
       "      <th>0</th>\n",
       "      <td>2</td>\n",
       "      <td>0.98</td>\n",
       "      <td>0.96</td>\n",
       "      <td>0.92</td>\n",
       "    </tr>\n",
       "    <tr>\n",
       "      <th>1</th>\n",
       "      <td>3</td>\n",
       "      <td>0.69</td>\n",
       "      <td>0.80</td>\n",
       "      <td>0.81</td>\n",
       "    </tr>\n",
       "    <tr>\n",
       "      <th>2</th>\n",
       "      <td>6</td>\n",
       "      <td>0.58</td>\n",
       "      <td>0.59</td>\n",
       "      <td>0.64</td>\n",
       "    </tr>\n",
       "    <tr>\n",
       "      <th>3</th>\n",
       "      <td>8</td>\n",
       "      <td>0.96</td>\n",
       "      <td>0.85</td>\n",
       "      <td>0.87</td>\n",
       "    </tr>\n",
       "    <tr>\n",
       "      <th>4</th>\n",
       "      <td>9</td>\n",
       "      <td>0.65</td>\n",
       "      <td>0.67</td>\n",
       "      <td>0.87</td>\n",
       "    </tr>\n",
       "  </tbody>\n",
       "</table>\n",
       "</div>"
      ],
      "text/plain": [
       "   subject ID     1     2     3\n",
       "0           2  0.98  0.96  0.92\n",
       "1           3  0.69  0.80  0.81\n",
       "2           6  0.58  0.59  0.64\n",
       "3           8  0.96  0.85  0.87\n",
       "4           9  0.65  0.67  0.87"
      ]
     },
     "execution_count": 4,
     "metadata": {},
     "output_type": "execute_result"
    }
   ],
   "source": [
    "df.head()"
   ]
  },
  {
   "cell_type": "code",
   "execution_count": 5,
   "id": "0f5360e9-f4b4-4aad-9bd7-6b42e8668ce4",
   "metadata": {},
   "outputs": [],
   "source": [
    "df_hypertension = pd.read_excel(\"./Data File/PPG-BP dataset.xlsx\")"
   ]
  },
  {
   "cell_type": "code",
   "execution_count": 6,
   "id": "03ce7c5e-e45d-4593-8a72-5fa15fb47477",
   "metadata": {},
   "outputs": [
    {
     "data": {
      "text/html": [
       "<div>\n",
       "<style scoped>\n",
       "    .dataframe tbody tr th:only-of-type {\n",
       "        vertical-align: middle;\n",
       "    }\n",
       "\n",
       "    .dataframe tbody tr th {\n",
       "        vertical-align: top;\n",
       "    }\n",
       "\n",
       "    .dataframe thead th {\n",
       "        text-align: right;\n",
       "    }\n",
       "</style>\n",
       "<table border=\"1\" class=\"dataframe\">\n",
       "  <thead>\n",
       "    <tr style=\"text-align: right;\">\n",
       "      <th></th>\n",
       "      <th>subject ID</th>\n",
       "      <th>1</th>\n",
       "      <th>2</th>\n",
       "      <th>3</th>\n",
       "      <th>Hypertension</th>\n",
       "    </tr>\n",
       "  </thead>\n",
       "  <tbody>\n",
       "    <tr>\n",
       "      <th>214</th>\n",
       "      <td>415</td>\n",
       "      <td>1.15</td>\n",
       "      <td>1.38</td>\n",
       "      <td>1.19</td>\n",
       "      <td>Normal</td>\n",
       "    </tr>\n",
       "    <tr>\n",
       "      <th>215</th>\n",
       "      <td>416</td>\n",
       "      <td>0.96</td>\n",
       "      <td>0.94</td>\n",
       "      <td>1.01</td>\n",
       "      <td>Normal</td>\n",
       "    </tr>\n",
       "    <tr>\n",
       "      <th>216</th>\n",
       "      <td>417</td>\n",
       "      <td>1.12</td>\n",
       "      <td>1.32</td>\n",
       "      <td>1.38</td>\n",
       "      <td>Prehypertension</td>\n",
       "    </tr>\n",
       "    <tr>\n",
       "      <th>217</th>\n",
       "      <td>418</td>\n",
       "      <td>0.96</td>\n",
       "      <td>0.87</td>\n",
       "      <td>1.06</td>\n",
       "      <td>Normal</td>\n",
       "    </tr>\n",
       "    <tr>\n",
       "      <th>218</th>\n",
       "      <td>419</td>\n",
       "      <td>1.13</td>\n",
       "      <td>1.00</td>\n",
       "      <td>0.81</td>\n",
       "      <td>Normal</td>\n",
       "    </tr>\n",
       "  </tbody>\n",
       "</table>\n",
       "</div>"
      ],
      "text/plain": [
       "     subject ID     1     2     3     Hypertension\n",
       "214         415  1.15  1.38  1.19           Normal\n",
       "215         416  0.96  0.94  1.01           Normal\n",
       "216         417  1.12  1.32  1.38  Prehypertension\n",
       "217         418  0.96  0.87  1.06           Normal\n",
       "218         419  1.13  1.00  0.81           Normal"
      ]
     },
     "execution_count": 6,
     "metadata": {},
     "output_type": "execute_result"
    }
   ],
   "source": [
    "df[\"Hypertension\"]=df_hypertension[\"Hypertension\"]\n",
    "df.tail()"
   ]
  },
  {
   "cell_type": "code",
   "execution_count": 25,
   "id": "f88ded1e-cf51-4136-a3a1-1c15d8b386cd",
   "metadata": {},
   "outputs": [
    {
     "data": {
      "text/plain": [
       "219"
      ]
     },
     "execution_count": 25,
     "metadata": {},
     "output_type": "execute_result"
    }
   ],
   "source": [
    "len(df)"
   ]
  },
  {
   "cell_type": "code",
   "execution_count": 31,
   "id": "26b18437-2697-447c-8909-860053094657",
   "metadata": {},
   "outputs": [],
   "source": [
    "data_list = []\n",
    "\n",
    "for ID in range(len(df)-1):\n",
    "    for segment in range(3):\n",
    "        file_name = f'{df[\"subject ID\"][ID]}_{(segment+1)}'\n",
    "        #print(f'{df[\"subject ID\"][ID]}_{(segment+1)}')\n",
    "        # Leer el fichero de datos PPG (suponiendo que están en formato CSV, por ejemplo)\n",
    "        data =  pd.read_csv(f\"./Data File/0_subject/{file_name}.txt\", delimiter=\"\\t\", header=None)\n",
    "    \n",
    "        # Añadir los datos a la lista\n",
    "        data_list.append(data)"
   ]
  },
  {
   "cell_type": "code",
   "execution_count": 36,
   "id": "4f2ea05f-ad66-4355-8e2c-c7a58bd9626c",
   "metadata": {},
   "outputs": [],
   "source": [
    "data =  pd.read_csv(f\"./Data File/0_subject/419_1.txt\", delimiter=\"\\t\", header=None)\n",
    "    \n",
    "# Añadir los datos a la lista\n",
    "data_list.append(data)"
   ]
  },
  {
   "cell_type": "code",
   "execution_count": 37,
   "id": "ec89f89b-4d38-40d3-ae5c-41b41bd2a58b",
   "metadata": {},
   "outputs": [],
   "source": [
    "data =  pd.read_csv(f\"./Data File/0_subject/419_2.txt\", delimiter=\"\\t\", header=None)\n",
    "    \n",
    "# Añadir los datos a la lista\n",
    "data_list.append(data)"
   ]
  },
  {
   "cell_type": "code",
   "execution_count": 38,
   "id": "9b84b66c-f64a-4d41-8bcd-f27d66f25598",
   "metadata": {},
   "outputs": [],
   "source": [
    "data =  pd.read_csv(f\"./Data File/0_subject/419_3.txt\", delimiter=\"\\t\", header=None)\n",
    "    \n",
    "# Añadir los datos a la lista\n",
    "data_list.append(data)"
   ]
  },
  {
   "cell_type": "code",
   "execution_count": 39,
   "id": "9f967042-88a9-42f0-a942-515eb4ba41d2",
   "metadata": {},
   "outputs": [
    {
     "data": {
      "text/plain": [
       "657"
      ]
     },
     "execution_count": 39,
     "metadata": {},
     "output_type": "execute_result"
    }
   ],
   "source": [
    "# Concatenar todos los ficheros en un solo DataFrame\n",
    "dataset_ppg = pd.concat(data_list, axis=0)\n",
    "# Opcionalmente, restablecer el índice si es necesario\n",
    "dataset_ppg.reset_index(drop=True, inplace=True)\n",
    "#Como hay valores con el doble de muestras, eliminamos el exceso de señal ya que la mayoría tiene 2100 columnas -> waveform data was set to a sampling rate of 1 kHz, with 12 bits AD conversion precision\n",
    "#dataset_ppg[dataset_ppg.iloc[:,4196].notna()]\n",
    "#df.iloc[179,:]\n",
    "dataset_ppg = dataset_ppg.iloc[:, :2100]\n",
    "len(dataset_ppg)"
   ]
  },
  {
   "cell_type": "code",
   "execution_count": 40,
   "id": "6050e317-6644-40b3-a729-db38cd6d7b45",
   "metadata": {},
   "outputs": [],
   "source": [
    "dataset_ppg.to_pickle('set_PPG_signals.pkl')"
   ]
  },
  {
   "cell_type": "code",
   "execution_count": 68,
   "id": "9aa384c1-5e3b-4342-90b8-7989be458fc0",
   "metadata": {},
   "outputs": [],
   "source": [
    "X_train = dataset_ppg.iloc[:460,:]\n",
    "X_test = dataset_ppg.iloc[460:,:]"
   ]
  },
  {
   "cell_type": "code",
   "execution_count": 69,
   "id": "04ebe13b-29d2-4966-9e1a-32a766cf1264",
   "metadata": {},
   "outputs": [],
   "source": [
    "X_train.to_pickle('X_train.pkl')\n",
    "X_test.to_pickle('X_test.pkl')"
   ]
  },
  {
   "cell_type": "code",
   "execution_count": 7,
   "id": "e05b23c7-f237-4be4-9ff4-231a20ac35eb",
   "metadata": {},
   "outputs": [
    {
     "data": {
      "text/html": [
       "<div>\n",
       "<style scoped>\n",
       "    .dataframe tbody tr th:only-of-type {\n",
       "        vertical-align: middle;\n",
       "    }\n",
       "\n",
       "    .dataframe tbody tr th {\n",
       "        vertical-align: top;\n",
       "    }\n",
       "\n",
       "    .dataframe thead th {\n",
       "        text-align: right;\n",
       "    }\n",
       "</style>\n",
       "<table border=\"1\" class=\"dataframe\">\n",
       "  <thead>\n",
       "    <tr style=\"text-align: right;\">\n",
       "      <th></th>\n",
       "      <th>0</th>\n",
       "    </tr>\n",
       "  </thead>\n",
       "  <tbody>\n",
       "    <tr>\n",
       "      <th>0</th>\n",
       "      <td>Stage 2 hypertension</td>\n",
       "    </tr>\n",
       "    <tr>\n",
       "      <th>1</th>\n",
       "      <td>Stage 2 hypertension</td>\n",
       "    </tr>\n",
       "    <tr>\n",
       "      <th>2</th>\n",
       "      <td>Stage 2 hypertension</td>\n",
       "    </tr>\n",
       "    <tr>\n",
       "      <th>3</th>\n",
       "      <td>Stage 2 hypertension</td>\n",
       "    </tr>\n",
       "    <tr>\n",
       "      <th>4</th>\n",
       "      <td>Stage 2 hypertension</td>\n",
       "    </tr>\n",
       "  </tbody>\n",
       "</table>\n",
       "</div>"
      ],
      "text/plain": [
       "                      0\n",
       "0  Stage 2 hypertension\n",
       "1  Stage 2 hypertension\n",
       "2  Stage 2 hypertension\n",
       "3  Stage 2 hypertension\n",
       "4  Stage 2 hypertension"
      ]
     },
     "execution_count": 7,
     "metadata": {},
     "output_type": "execute_result"
    }
   ],
   "source": [
    "clinical_list = []\n",
    "\n",
    "for ID in range(len(df)):\n",
    "    file_name = f'{df[\"Hypertension\"][ID]}'\n",
    "    # Añadir los datos a la lista por factor de 3\n",
    "    clinical_list.append(file_name)\n",
    "    clinical_list.append(file_name)\n",
    "    clinical_list.append(file_name)\n",
    "\n",
    "clinical_data = pd.DataFrame(clinical_list)\n",
    "clinical_data.head()"
   ]
  },
  {
   "cell_type": "code",
   "execution_count": 10,
   "id": "abfffbcb-8207-40be-82c8-c0f2577d8bb5",
   "metadata": {},
   "outputs": [],
   "source": [
    "Y_train = clinical_data.iloc[:460] == 'Normal'\n",
    "Y_test = clinical_data.iloc[460:] == 'Normal'"
   ]
  },
  {
   "cell_type": "code",
   "execution_count": 11,
   "id": "033dbed2-4ff0-4f9c-abce-fca7e2e39c43",
   "metadata": {},
   "outputs": [],
   "source": [
    "Y_train.to_pickle('Y_train.pkl')\n",
    "Y_test.to_pickle('Y_test.pkl')"
   ]
  },
  {
   "cell_type": "code",
   "execution_count": null,
   "id": "8e9652b8-b21c-496a-8da6-620ca6e868a6",
   "metadata": {},
   "outputs": [],
   "source": []
  }
 ],
 "metadata": {
  "kernelspec": {
   "display_name": "Python 3 (ipykernel)",
   "language": "python",
   "name": "python3"
  },
  "language_info": {
   "codemirror_mode": {
    "name": "ipython",
    "version": 3
   },
   "file_extension": ".py",
   "mimetype": "text/x-python",
   "name": "python",
   "nbconvert_exporter": "python",
   "pygments_lexer": "ipython3",
   "version": "3.11.7"
  }
 },
 "nbformat": 4,
 "nbformat_minor": 5
}
